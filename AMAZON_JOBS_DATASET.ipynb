{
 "cells": [
  {
   "cell_type": "markdown",
   "id": "9b72f856",
   "metadata": {},
   "source": [
    "### NUMBER OF JOB OPENINGS IN BANGLORE AND SEATTLE"
   ]
  },
  {
   "cell_type": "code",
   "execution_count": 1,
   "id": "014612d1",
   "metadata": {},
   "outputs": [
    {
     "name": "stdout",
     "output_type": "stream",
     "text": [
      "66 1856 "
     ]
    }
   ],
   "source": [
    "import csv\n",
    "with open('amazon_jobs_dataset.csv',encoding='utf8') as file_obj:\n",
    "    file_data=csv.DictReader(file_obj, skipinitialspace=True)\n",
    "    \n",
    "    dic={}\n",
    "    dic['IN, KA, Bangalore']=0\n",
    "    dic['US, WA, Seattle ']=0\n",
    "    for row in file_data:\n",
    "        if row['location']=='IN, KA, Bangalore ':\n",
    "            dic['IN, KA, Bangalore']+=1\n",
    "        elif row['location']=='US, WA, Seattle ':\n",
    "            dic['US, WA, Seattle ']+=1\n",
    "    for i in dic:\n",
    "        print(dic[i], end=' ')"
   ]
  },
  {
   "cell_type": "markdown",
   "id": "3d6dd91e",
   "metadata": {},
   "source": [
    "### NUMBER OF JOB OPENINGS RELATED TO COMPUTER VISION"
   ]
  },
  {
   "cell_type": "code",
   "execution_count": 2,
   "id": "2234df9c",
   "metadata": {},
   "outputs": [
    {
     "name": "stdout",
     "output_type": "stream",
     "text": [
      "14\n"
     ]
    }
   ],
   "source": [
    "with open('amazon_jobs_dataset.csv',encoding='utf8') as file_obj:\n",
    "    file_data=csv.DictReader(file_obj, skipinitialspace=True)\n",
    "    lst=list(file_data)\n",
    "    count=0\n",
    "    for row in lst:\n",
    "        a=row['Title'].split()\n",
    "        if 'Vision' in a:\n",
    "            count+=1\n",
    "print(count)"
   ]
  },
  {
   "cell_type": "markdown",
   "id": "1b968de8",
   "metadata": {},
   "source": [
    "### NUMBER OF JOB OPENINGS IN CANADA"
   ]
  },
  {
   "cell_type": "code",
   "execution_count": 3,
   "id": "c7ba82a8",
   "metadata": {},
   "outputs": [
    {
     "name": "stdout",
     "output_type": "stream",
     "text": [
      "765\n"
     ]
    }
   ],
   "source": [
    "with open('amazon_jobs_dataset.csv', encoding='utf8') as file_obj:\n",
    "    file_data=csv.DictReader(file_obj, skipinitialspace=True)\n",
    "    lst=list(file_data)\n",
    "    count=0\n",
    "    for row in lst:\n",
    "        a=row['location'].split()\n",
    "        if 'CA,' in  a:\n",
    "            count+=1\n",
    "print(count)"
   ]
  },
  {
   "cell_type": "markdown",
   "id": "21fa9e49",
   "metadata": {},
   "source": [
    "### MONTH WITH MAXIMUM JOB OPENINGS IN YEAR 2018 AND IT'S COUNT"
   ]
  },
  {
   "cell_type": "code",
   "execution_count": 4,
   "id": "a3af04f3",
   "metadata": {},
   "outputs": [
    {
     "name": "stdout",
     "output_type": "stream",
     "text": [
      "January 907\n"
     ]
    }
   ],
   "source": [
    "with open('amazon_jobs_dataset.csv', encoding='utf8') as file_obj:\n",
    "    file_data=csv.DictReader(file_obj, skipinitialspace=True)\n",
    "    lst=list(file_data)\n",
    "    l=[]\n",
    "    for row in lst:\n",
    "        a=row['Posting_date'].split()\n",
    "        if '2018' in a:\n",
    "            l.append(a)\n",
    "dic={}\n",
    "for i in l:                       \n",
    "    if i[0] in dic.keys():\n",
    "        dic[i[0]]+=1\n",
    "    else:\n",
    "        dic[i[0]]=1\n",
    "freq=0\n",
    "max_month='January'\n",
    "for i in dic:\n",
    "    if dic[i]>freq:\n",
    "        freq=dic[i]\n",
    "        max_month=i\n",
    "print(max_month,freq)"
   ]
  },
  {
   "cell_type": "markdown",
   "id": "8633977d",
   "metadata": {},
   "source": [
    "### NUMBER OF JOB OPENINGS PRESENT IF APPLICANT HAS BA BS OR BACHELOR DEGREE"
   ]
  },
  {
   "cell_type": "code",
   "execution_count": 5,
   "id": "56233562",
   "metadata": {},
   "outputs": [
    {
     "name": "stdout",
     "output_type": "stream",
     "text": [
      "2961\n"
     ]
    }
   ],
   "source": [
    "with open('amazon_jobs_dataset.csv', encoding='utf8') as file_obj:\n",
    "    file_data=csv.DictReader(file_obj, skipinitialspace=True)\n",
    "    lst=list(file_data)\n",
    "count=0\n",
    "for row in lst:\n",
    "    a=row['BASIC QUALIFICATIONS']\n",
    "    if (\"Bachelor\" in a or \"BA\" in a or \"BS\" in a):\n",
    "        count+=1\n",
    "print(count)"
   ]
  },
  {
   "cell_type": "markdown",
   "id": "46dff545",
   "metadata": {},
   "source": [
    "### LANGUAGE THAT HAS MORE NUMBER OF JOB OPEINGS FOR BACHELORS IN INDIA AND NUMBER OF OPENINGS"
   ]
  },
  {
   "cell_type": "code",
   "execution_count": 6,
   "id": "ddaa0cd9",
   "metadata": {},
   "outputs": [
    {
     "name": "stdout",
     "output_type": "stream",
     "text": [
      "Java 103\n"
     ]
    }
   ],
   "source": [
    "with open('amazon_jobs_dataset.csv', encoding='utf8') as file_obj:\n",
    "    file_data=csv.DictReader(file_obj, skipinitialspace=True)\n",
    "    lst=list(file_data)\n",
    "count=0\n",
    "dic={}\n",
    "dic['Java']=0\n",
    "dic['C++']=0\n",
    "dic['Python']=0\n",
    "for row in lst:\n",
    "    loc=row['location'].strip().split(',')\n",
    "    a=row['BASIC QUALIFICATIONS']\n",
    "    if 'Java' in a and (\"Bachelor\" in a or \"BA\" in a or \"BS\" in a) and (loc[0]=='IN'):\n",
    "        dic['Java']+=1\n",
    "    elif 'C++' in a and (\"Bachelor\" in a or \"BA\" in a or \"BS\" in a) and (loc[0]=='IN'):\n",
    "        dic['C++']+=1\n",
    "    elif 'Python' in a and (\"Bachelor\" in a or \"BA\" in a or \"BS\" in a) and (loc[0]=='IN'):\n",
    "        dic['Python']+=1\n",
    "count=0\n",
    "language=\"\"\n",
    "for i in dic.keys():\n",
    "    if dic[i]>count:\n",
    "        count=dic[i]\n",
    "        language=i\n",
    "print(language, count)"
   ]
  },
  {
   "cell_type": "markdown",
   "id": "afd300fd",
   "metadata": {},
   "source": [
    "## Contry from where amazon needs most number of Java developers"
   ]
  },
  {
   "cell_type": "code",
   "execution_count": 7,
   "id": "9f033dca",
   "metadata": {},
   "outputs": [
    {
     "name": "stdout",
     "output_type": "stream",
     "text": [
      "US 2009\n"
     ]
    }
   ],
   "source": [
    "with open('amazon_jobs_dataset.csv', encoding='utf8') as file_obj:\n",
    "    file_data=csv.DictReader(file_obj, skipinitialspace=True)\n",
    "    lst=list(file_data)\n",
    "    dic={}\n",
    "    for row in lst:\n",
    "        a=row['BASIC QUALIFICATIONS']\n",
    "        b=row['location'].split(\",\")[0]\n",
    "        if \"Java\" in a:\n",
    "            if b in dic.keys():\n",
    "                dic[b]+=1\n",
    "            else:\n",
    "                dic[b]=1\n",
    "                \n",
    "count=0\n",
    "country=\"\"\n",
    "for i in dic:\n",
    "    if dic[i]>count:\n",
    "        count=dic[i]\n",
    "        country=i\n",
    "print(country, count)"
   ]
  },
  {
   "cell_type": "code",
   "execution_count": 8,
   "id": "57502e03",
   "metadata": {},
   "outputs": [],
   "source": [
    "import numpy as np\n",
    "import matplotlib.pyplot as plt"
   ]
  },
  {
   "cell_type": "code",
   "execution_count": 9,
   "id": "b8296125",
   "metadata": {},
   "outputs": [
    {
     "data": {
      "image/png": "[encoded data removed]",
      "text/plain": [
       "<Figure size 432x288 with 1 Axes>"
      ]
     },
     "metadata": {
      "needs_background": "light"
     },
     "output_type": "display_data"
    }
   ],
   "source": [
    "with open('amazon_jobs_dataset.csv', encoding='utf8') as file_obj:\n",
    "    file_data=csv.DictReader(file_obj, skipinitialspace=True)\n",
    "    year=[]\n",
    "    for row in file_data:\n",
    "        year.append(row['Posting_date'].split()[2])\n",
    "        np_year=np.array(year,dtype='int')\n",
    "        dic={}\n",
    "    for i in np_year:\n",
    "        if i in dic.keys():\n",
    "            dic[i]+=1\n",
    "        else:\n",
    "            dic[i]=1\n",
    "    xaxis=[]\n",
    "    yaxis=[]\n",
    "    for i in dic.keys():\n",
    "        xaxis.append(i)\n",
    "        yaxis.append(dic[i])\n",
    "    plt.plot(xaxis,yaxis,color='red',linewidth=5)\n",
    "    plt.show()\n",
    "                    "
   ]
  },
  {
   "cell_type": "code",
   "execution_count": 10,
   "id": "5fe44775",
   "metadata": {},
   "outputs": [
    {
     "data": {
      "image/png": "[encoded data removed]",
      "text/plain": [
       "<Figure size 432x288 with 1 Axes>"
      ]
     },
     "metadata": {
      "needs_background": "light"
     },
     "output_type": "display_data"
    }
   ],
   "source": [
    "with open('amazon_jobs_dataset.csv', encoding='utf8') as file_obj:\n",
    "    file_data=csv.DictReader(file_obj, skipinitialspace=True)\n",
    "    month=[]\n",
    "    for row in file_data:\n",
    "        month.append(row['Posting_date'].split()[0])\n",
    "    np_month=np.array(month)\n",
    "    dic={}\n",
    "    for i in np_month:\n",
    "        if i in dic:\n",
    "            dic[i]+=1\n",
    "        else:\n",
    "            dic[i]=1\n",
    "    xaxis=[]\n",
    "    yaxis=[]\n",
    "    for i in dic.keys():\n",
    "        xaxis.append(i)\n",
    "        yaxis.append(dic[i])\n",
    "    plt.bar(xaxis, yaxis, color='pink',edgecolor='purple')\n",
    "    plt.xticks(rotation=45)\n",
    "    plt.show()"
   ]
  },
  {
   "cell_type": "code",
   "execution_count": 14,
   "id": "d2448e70",
   "metadata": {},
   "outputs": [
    {
     "data": {
      "image/png": "[encoded data removed]",
      "text/plain": [
       "<Figure size 432x288 with 1 Axes>"
      ]
     },
     "metadata": {},
     "output_type": "display_data"
    }
   ],
   "source": [
    "with open('amazon_jobs_dataset.csv',encoding='utf8') as file_obj:\n",
    "    file_data=csv.DictReader(file_obj,skipinitialspace=True)\n",
    "    dic={}\n",
    "    city=[]\n",
    "    for row in file_data:\n",
    "        if 'IN' in row['location'] and not 'IE' in row['location']:\n",
    "            city.append(row['location'].split()[2])\n",
    "    for i in city:\n",
    "        if i in dic:\n",
    "            dic[i]+=1\n",
    "        else:\n",
    "            dic[i]=1\n",
    "    xaxis=[]\n",
    "    yaxis=[]\n",
    "    for i in dic:\n",
    "        xaxis.append(i)\n",
    "        yaxis.append(dic[i])\n",
    "    np_xaxis=np.array(xaxis)\n",
    "    np_yaxis=np.array(yaxis,dtype='int')\n",
    "    np_xaxis=np_xaxis[np.argsort(np_yaxis)]\n",
    "    np_yaxis=np.sort(np_yaxis)\n",
    "    \n",
    "    np_xaxis=np_xaxis[::-1]\n",
    "    np_yaxis=np_yaxis[::-1]\n",
    "    plt.pie(np_yaxis,labels=np_xaxis,autopct='%.2f%%',radius=2)\n",
    "    plt.show()"
   ]
  },
  {
   "cell_type": "code",
   "execution_count": null,
   "id": "02ffb575",
   "metadata": {},
   "outputs": [],
   "source": []
  }
 ],
 "metadata": {
  "kernelspec": {
   "display_name": "Python 3",
   "language": "python",
   "name": "python3"
  },
  "language_info": {
   "codemirror_mode": {
    "name": "ipython",
    "version": 3
   },
   "file_extension": ".py",
   "mimetype": "text/x-python",
   "name": "python",
   "nbconvert_exporter": "python",
   "pygments_lexer": "ipython3",
   "version": "3.9.5"
  }
 },
 "nbformat": 4,
 "nbformat_minor": 5
}
